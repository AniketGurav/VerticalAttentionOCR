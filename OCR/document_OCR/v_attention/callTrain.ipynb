{
 "cells": [
  {
   "cell_type": "code",
   "execution_count": 1,
   "metadata": {},
   "outputs": [
    {
     "name": "stdout",
     "output_type": "stream",
     "text": [
      "Apex not installed\n"
     ]
    }
   ],
   "source": [
    "\n",
    "import sys\n",
    "sys.path.insert(0,'/home/aniketag/Documents/phd/TensorFlow-2.x-YOLOv3_simula/Handwriting-1-master/VerticalAttentionOCR/')\n",
    "from torch.optim import Adam\n",
    "from OCR.document_OCR.v_attention.trainer_pg_va import Manager\n",
    "from OCR.document_OCR.v_attention.models_pg_va import VerticalAttention, LineDecoderCTC\n",
    "from basic.models import FCN_Encoder\n",
    "from basic.generic_dataset_manager import OCRDataset\n",
    "import torch\n",
    "import torch.multiprocessing as mp\n",
    "\n",
    "\n"
   ]
  },
  {
   "cell_type": "code",
   "execution_count": 2,
   "metadata": {},
   "outputs": [],
   "source": [
    "\n",
    "%load_ext autoreload\n",
    "%autoreload 2\n",
    "from OCR.document_OCR.v_attention.parameters  import params # parameters\n",
    "from OCR.document_OCR.v_attention.models_pg_va import VerticalAttention, LineDecoderCTC\n",
    "from OCR.document_OCR.v_attention.parameters  import params"
   ]
  },
  {
   "cell_type": "code",
   "execution_count": 3,
   "metadata": {},
   "outputs": [],
   "source": [
    "\n",
    "def train(rank, params):\n",
    "    params[\"training_params\"][\"ddp_rank\"] = rank\n",
    "    model = Manager(params)\n",
    "    # Model trains until max_time_training or max_nb_epochs is reached\n",
    "    print(\"¤¤¤¤¤¤¤¤¤¤¤¤¤¤¤¤¤¤\")\n",
    "    model.train()\n",
    "\n",
    "    # load weights giving best CER on valid set\n",
    "    #model.params[\"training_params\"][\"load_epoch\"] = \"best\"\n",
    "    #model.load_model()\n",
    "    \n",
    "    print(\"\\n\\t loading complete!!\")\n",
    "\n",
    "    \"\"\"\n",
    "    \n",
    "    # compute metrics on train, valid and test sets (in eval conditions)\n",
    "    metrics = [\"cer\", \"wer\", \"diff_len\", \"time\", \"worst_cer\"]\n",
    "    for dataset_name in params[\"dataset_params\"][\"datasets\"].keys():\n",
    "        for set_name in [\"test\", \"valid\", \"train\"]:\n",
    "            model.predict(\"{}-{}\".format(dataset_name, set_name), [(dataset_name, set_name), ], metrics, output=True)\n",
    "    \"\"\"\n"
   ]
  },
  {
   "cell_type": "code",
   "execution_count": 4,
   "metadata": {},
   "outputs": [
    {
     "name": "stdout",
     "output_type": "stream",
     "text": [
      "The autoreload extension is already loaded. To reload it, use:\n",
      "  %reload_ext autoreload\n",
      "##################\n",
      "Available GPUS: 1\n",
      "Rank 0: Quadro RTX 8000 _CudaDeviceProperties(name='Quadro RTX 8000', major=7, minor=5, total_memory=48598MB, multi_processor_count=72)\n",
      "##################\n",
      "Local GPU:\n",
      "Rank 0: Quadro RTX 8000 _CudaDeviceProperties(name='Quadro RTX 8000', major=7, minor=5, total_memory=48598MB, multi_processor_count=72)\n",
      "##################\n",
      "Warning: Apex not used ! (not installed)\n",
      "\n",
      "\t datasets[key] = /media/aniketag/c4eb0693-4a65-4f0c-8d65-a6dad4b97ff9/IAM/formatted/IAM_paragraph/\n",
      "\n",
      "\t joinPath = /media/aniketag/c4eb0693-4a65-4f0c-8d65-a6dad4b97ff9/IAM/formatted/IAM_paragraph/labels.pkl\n",
      "\n",
      "\t is file: True\n",
      "\n",
      "\t paths_and_sets: [{'path': '/media/aniketag/c4eb0693-4a65-4f0c-8d65-a6dad4b97ff9/IAM/formatted/IAM_paragraph', 'set_name': 'train'}]\n",
      "\n",
      "\t samples # of keys:: 101\n",
      "\n",
      "\t paths_and_sets: [{'path': '/media/aniketag/c4eb0693-4a65-4f0c-8d65-a6dad4b97ff9/IAM/formatted/IAM_paragraph', 'set_name': 'valid'}]\n",
      "\n",
      "\t samples # of keys:: 7\n",
      "\n",
      "\t trying to load subset of dataloader!!!\n",
      "LOADED EPOCH: 2244\n",
      "  is model file present:\n"
     ]
    },
    {
     "name": "stderr",
     "output_type": "stream",
     "text": [
      "EPOCH 2245/5000:   0%|          | 0/100 [00:00<?, ?it/s]"
     ]
    },
    {
     "name": "stdout",
     "output_type": "stream",
     "text": [
      "\n",
      "\t input: torch.Size([1, 2])  innput.type: torch.float32  target.type: torch.int64\n",
      "\n",
      "\t input: torch.Size([1, 2])  innput.type: torch.float32  target.type: torch.int64\n",
      "\n",
      "\t input: torch.Size([1, 2])  innput.type: torch.float32  target.type: torch.int64\n",
      "\n",
      "\t input: torch.Size([1, 2])  innput.type: torch.float32  target.type: torch.int64\n",
      "\n",
      "\t input: torch.Size([1, 2])  innput.type: torch.float32  target.type: torch.int64\n",
      "\n",
      "\t input: torch.Size([1, 2])  innput.type: torch.float32  target.type: torch.int64\n",
      "\n",
      "\t input: torch.Size([1, 2])  innput.type: torch.float32  target.type: torch.int64\n",
      "\n",
      "\t input: torch.Size([1, 2])  innput.type: torch.float32  target.type: torch.int64\n"
     ]
    },
    {
     "name": "stderr",
     "output_type": "stream",
     "text": [
      "EPOCH 2245/5000:   1%|          | 1/100 [00:00<01:27,  1.13it/s, values={'loss_ctc': 0.0881, 'cer': 0.0247, 'wer': 0.087, 'loss_ce': 0.0011}]"
     ]
    },
    {
     "name": "stdout",
     "output_type": "stream",
     "text": [
      "\n",
      "\t input: torch.Size([1, 2])  innput.type: torch.float32  target.type: torch.int64\n",
      "\n",
      "\t input: torch.Size([1, 2])  innput.type: torch.float32  target.type: torch.int64\n",
      "\n",
      "\t input: torch.Size([1, 2])  innput.type: torch.float32  target.type: torch.int64\n",
      "\n",
      "\t input: torch.Size([1, 2])  innput.type: torch.float32  target.type: torch.int64\n",
      "\n",
      "\t input: torch.Size([1, 2])  innput.type: torch.float32  target.type: torch.int64\n",
      "\n",
      "\t input: torch.Size([1, 2])  innput.type: torch.float32  target.type: torch.int64\n",
      "\n",
      "\t input: torch.Size([1, 2])  innput.type: torch.float32  target.type: torch.int64\n",
      "\n",
      "\t input: torch.Size([1, 2])  innput.type: torch.float32  target.type: torch.int64\n",
      "\n",
      "\t input: torch.Size([1, 2])  innput.type: torch.float32  target.type: torch.int64\n",
      "\n",
      "\t input: torch.Size([1, 2])  innput.type: torch.float32  target.type: torch.int64\n",
      "\n",
      "\t input: torch.Size([1, 2])  innput.type: torch.float32  target.type: torch.int64\n",
      "\n",
      "\t input: torch.Size([1, 2])  innput.type: torch.float32  target.type: torch.int64\n",
      "\n",
      "\t input: torch.Size([1, 2])  innput.type: torch.float32  target.type: torch.int64\n"
     ]
    },
    {
     "name": "stderr",
     "output_type": "stream",
     "text": [
      "EPOCH 2245/5000:   2%|▏         | 2/100 [00:01<01:10,  1.39it/s, values={'loss_ctc': 0.0975, 'cer': 0.0296, 'wer': 0.1092, 'loss_ce': 0.1528}]"
     ]
    },
    {
     "name": "stdout",
     "output_type": "stream",
     "text": [
      "\n",
      "\t input: torch.Size([1, 2])  innput.type: torch.float32  target.type: torch.int64\n",
      "\n",
      "\t input: torch.Size([1, 2])  innput.type: torch.float32  target.type: torch.int64\n",
      "\n",
      "\t input: torch.Size([1, 2])  innput.type: torch.float32  target.type: torch.int64\n",
      "\n",
      "\t input: torch.Size([1, 2])  innput.type: torch.float32  target.type: torch.int64\n",
      "\n",
      "\t input: torch.Size([1, 2])  innput.type: torch.float32  target.type: torch.int64\n",
      "\n",
      "\t input: torch.Size([1, 2])  innput.type: torch.float32  target.type: torch.int64\n",
      "\n",
      "\t input: torch.Size([1, 2])  innput.type: torch.float32  target.type: torch.int64\n",
      "\n",
      "\t input: torch.Size([1, 2])  innput.type: torch.float32  target.type: torch.int64\n"
     ]
    },
    {
     "name": "stderr",
     "output_type": "stream",
     "text": [
      "EPOCH 2245/5000:   3%|▎         | 3/100 [00:02<01:06,  1.45it/s, values={'loss_ctc': 0.0741, 'cer': 0.0233, 'wer': 0.088, 'loss_ce': 0.1209}] "
     ]
    },
    {
     "name": "stdout",
     "output_type": "stream",
     "text": [
      "\n",
      "\t input: torch.Size([1, 2])  innput.type: torch.float32  target.type: torch.int64\n",
      "\n",
      "\t input: torch.Size([1, 2])  innput.type: torch.float32  target.type: torch.int64\n",
      "\n",
      "\t input: torch.Size([1, 2])  innput.type: torch.float32  target.type: torch.int64\n",
      "\n",
      "\t input: torch.Size([1, 2])  innput.type: torch.float32  target.type: torch.int64\n",
      "\n",
      "\t input: torch.Size([1, 2])  innput.type: torch.float32  target.type: torch.int64\n",
      "\n",
      "\t input: torch.Size([1, 2])  innput.type: torch.float32  target.type: torch.int64\n",
      "\n",
      "\t input: torch.Size([1, 2])  innput.type: torch.float32  target.type: torch.int64\n",
      "\n",
      "\t input: torch.Size([1, 2])  innput.type: torch.float32  target.type: torch.int64\n",
      "\n",
      "\t input: torch.Size([1, 2])  innput.type: torch.float32  target.type: torch.int64\n",
      "\n",
      "\t input: torch.Size([1, 2])  innput.type: torch.float32  target.type: torch.int64\n",
      "\n",
      "\t input: torch.Size([1, 2])  innput.type: torch.float32  target.type: torch.int64\n"
     ]
    },
    {
     "name": "stderr",
     "output_type": "stream",
     "text": [
      "EPOCH 2245/5000:   4%|▍         | 4/100 [00:02<01:07,  1.43it/s, values={'loss_ctc': 0.0565, 'cer': 0.0173, 'wer': 0.0649, 'loss_ce': 0.0907}]"
     ]
    },
    {
     "name": "stdout",
     "output_type": "stream",
     "text": [
      "\n",
      "\t input: torch.Size([1, 2])  innput.type: torch.float32  target.type: torch.int64\n",
      "\n",
      "\t input: torch.Size([1, 2])  innput.type: torch.float32  target.type: torch.int64\n",
      "\n",
      "\t input: torch.Size([1, 2])  innput.type: torch.float32  target.type: torch.int64\n",
      "\n",
      "\t input: torch.Size([1, 2])  innput.type: torch.float32  target.type: torch.int64\n",
      "\n",
      "\t input: torch.Size([1, 2])  innput.type: torch.float32  target.type: torch.int64\n",
      "\n",
      "\t input: torch.Size([1, 2])  innput.type: torch.float32  target.type: torch.int64\n",
      "\n",
      "\t input: torch.Size([1, 2])  innput.type: torch.float32  target.type: torch.int64\n",
      "\n",
      "\t input: torch.Size([1, 2])  innput.type: torch.float32  target.type: torch.int64\n",
      "\n",
      "\t input: torch.Size([1, 2])  innput.type: torch.float32  target.type: torch.int64\n",
      "\n",
      "\t input: torch.Size([1, 2])  innput.type: torch.float32  target.type: torch.int64\n",
      "\n",
      "\t input: torch.Size([1, 2])  innput.type: torch.float32  target.type: torch.int64\n",
      "\n",
      "\t input: torch.Size([1, 2])  innput.type: torch.float32  target.type: torch.int64\n"
     ]
    },
    {
     "name": "stderr",
     "output_type": "stream",
     "text": [
      "EPOCH 2245/5000:   5%|▌         | 5/100 [00:03<01:05,  1.45it/s, values={'loss_ctc': 0.0588, 'cer': 0.0176, 'wer': 0.0702, 'loss_ce': 0.0725}]"
     ]
    },
    {
     "name": "stdout",
     "output_type": "stream",
     "text": [
      "\n",
      "\t input: torch.Size([1, 2])  innput.type: torch.float32  target.type: torch.int64\n",
      "\n",
      "\t input: torch.Size([1, 2])  innput.type: torch.float32  target.type: torch.int64\n",
      "\n",
      "\t input: torch.Size([1, 2])  innput.type: torch.float32  target.type: torch.int64\n",
      "\n",
      "\t input: torch.Size([1, 2])  innput.type: torch.float32  target.type: torch.int64\n",
      "\n",
      "\t input: torch.Size([1, 2])  innput.type: torch.float32  target.type: torch.int64\n",
      "\n",
      "\t input: torch.Size([1, 2])  innput.type: torch.float32  target.type: torch.int64\n",
      "\n",
      "\t input: torch.Size([1, 2])  innput.type: torch.float32  target.type: torch.int64\n",
      "\n",
      "\t input: torch.Size([1, 2])  innput.type: torch.float32  target.type: torch.int64\n",
      "\n",
      "\t input: torch.Size([1, 2])  innput.type: torch.float32  target.type: torch.int64\n"
     ]
    },
    {
     "name": "stderr",
     "output_type": "stream",
     "text": [
      "EPOCH 2245/5000:   6%|▌         | 6/100 [00:04<01:01,  1.53it/s, values={'loss_ctc': 0.0573, 'cer': 0.0173, 'wer': 0.0633, 'loss_ce': 0.1553}]"
     ]
    },
    {
     "name": "stdout",
     "output_type": "stream",
     "text": [
      "\n",
      "\t input: torch.Size([1, 2])  innput.type: torch.float32  target.type: torch.int64\n",
      "\n",
      "\t input: torch.Size([1, 2])  innput.type: torch.float32  target.type: torch.int64\n",
      "\n",
      "\t input: torch.Size([1, 2])  innput.type: torch.float32  target.type: torch.int64\n",
      "\n",
      "\t input: torch.Size([1, 2])  innput.type: torch.float32  target.type: torch.int64\n",
      "\n",
      "\t input: torch.Size([1, 2])  innput.type: torch.float32  target.type: torch.int64\n",
      "\n",
      "\t input: torch.Size([1, 2])  innput.type: torch.float32  target.type: torch.int64\n",
      "\n",
      "\t input: torch.Size([1, 2])  innput.type: torch.float32  target.type: torch.int64\n"
     ]
    },
    {
     "name": "stderr",
     "output_type": "stream",
     "text": [
      "EPOCH 2245/5000:   7%|▋         | 7/100 [00:04<01:01,  1.52it/s, values={'loss_ctc': 0.0507, 'cer': 0.0154, 'wer': 0.0565, 'loss_ce': 0.1331}]"
     ]
    },
    {
     "name": "stdout",
     "output_type": "stream",
     "text": [
      "\n",
      "\t input: torch.Size([1, 2])  innput.type: torch.float32  target.type: torch.int64\n",
      "\n",
      "\t input: torch.Size([1, 2])  innput.type: torch.float32  target.type: torch.int64\n",
      "\n",
      "\t input: torch.Size([1, 2])  innput.type: torch.float32  target.type: torch.int64\n",
      "\n",
      "\t input: torch.Size([1, 2])  innput.type: torch.float32  target.type: torch.int64\n",
      "\n",
      "\t input: torch.Size([1, 2])  innput.type: torch.float32  target.type: torch.int64\n",
      "\n",
      "\t input: torch.Size([1, 2])  innput.type: torch.float32  target.type: torch.int64\n",
      "\n",
      "\t input: torch.Size([1, 2])  innput.type: torch.float32  target.type: torch.int64\n"
     ]
    },
    {
     "name": "stderr",
     "output_type": "stream",
     "text": [
      "EPOCH 2245/5000:   8%|▊         | 8/100 [00:05<00:54,  1.67it/s, values={'loss_ctc': 0.0472, 'cer': 0.0151, 'wer': 0.0563, 'loss_ce': 0.1165}]"
     ]
    },
    {
     "name": "stdout",
     "output_type": "stream",
     "text": [
      "\n",
      "\t input: torch.Size([1, 2])  innput.type: torch.float32  target.type: torch.int64\n",
      "\n",
      "\t input: torch.Size([1, 2])  innput.type: torch.float32  target.type: torch.int64\n",
      "\n",
      "\t input: torch.Size([1, 2])  innput.type: torch.float32  target.type: torch.int64\n",
      "\n",
      "\t input: torch.Size([1, 2])  innput.type: torch.float32  target.type: torch.int64\n",
      "\n",
      "\t input: torch.Size([1, 2])  innput.type: torch.float32  target.type: torch.int64\n",
      "\n",
      "\t input: torch.Size([1, 2])  innput.type: torch.float32  target.type: torch.int64\n",
      "\n",
      "\t input: torch.Size([1, 2])  innput.type: torch.float32  target.type: torch.int64\n",
      "\n",
      "\t input: torch.Size([1, 2])  innput.type: torch.float32  target.type: torch.int64\n",
      "\n",
      "\t input: torch.Size([1, 2])  innput.type: torch.float32  target.type: torch.int64\n",
      "\n",
      "\t input: torch.Size([1, 2])  innput.type: torch.float32  target.type: torch.int64\n",
      "\n",
      "\t input: torch.Size([1, 2])  innput.type: torch.float32  target.type: torch.int64\n",
      "\n",
      "\t input: torch.Size([1, 2])  innput.type: torch.float32  target.type: torch.int64\n",
      "\n",
      "\t input: torch.Size([1, 2])  innput.type: torch.float32  target.type: torch.int64\n"
     ]
    },
    {
     "name": "stderr",
     "output_type": "stream",
     "text": [
      "EPOCH 2245/5000:   9%|▉         | 9/100 [00:05<00:55,  1.63it/s, values={'loss_ctc': 0.0484, 'cer': 0.0151, 'wer': 0.0578, 'loss_ce': 0.1073}]"
     ]
    },
    {
     "name": "stdout",
     "output_type": "stream",
     "text": [
      "\n",
      "\t input: torch.Size([1, 2])  innput.type: torch.float32  target.type: torch.int64\n",
      "\n",
      "\t input: torch.Size([1, 2])  innput.type: torch.float32  target.type: torch.int64\n",
      "\n",
      "\t input: torch.Size([1, 2])  innput.type: torch.float32  target.type: torch.int64\n",
      "\n",
      "\t input: torch.Size([1, 2])  innput.type: torch.float32  target.type: torch.int64\n",
      "\n",
      "\t input: torch.Size([1, 2])  innput.type: torch.float32  target.type: torch.int64\n",
      "\n",
      "\t input: torch.Size([1, 2])  innput.type: torch.float32  target.type: torch.int64\n",
      "\n",
      "\t input: torch.Size([1, 2])  innput.type: torch.float32  target.type: torch.int64\n",
      "\n",
      "\t input: torch.Size([1, 2])  innput.type: torch.float32  target.type: torch.int64\n"
     ]
    },
    {
     "name": "stderr",
     "output_type": "stream",
     "text": [
      "EPOCH 2245/5000:  10%|█         | 10/100 [00:06<00:56,  1.59it/s, values={'loss_ctc': 0.0467, 'cer': 0.0144, 'wer': 0.0528, 'loss_ce': 0.0966}]"
     ]
    },
    {
     "name": "stdout",
     "output_type": "stream",
     "text": [
      "\n",
      "\t input: torch.Size([1, 2])  innput.type: torch.float32  target.type: torch.int64\n",
      "\n",
      "\t input: torch.Size([1, 2])  innput.type: torch.float32  target.type: torch.int64\n",
      "\n",
      "\t input: torch.Size([1, 2])  innput.type: torch.float32  target.type: torch.int64\n",
      "\n",
      "\t input: torch.Size([1, 2])  innput.type: torch.float32  target.type: torch.int64\n",
      "\n",
      "\t input: torch.Size([1, 2])  innput.type: torch.float32  target.type: torch.int64\n",
      "\n",
      "\t input: torch.Size([1, 2])  innput.type: torch.float32  target.type: torch.int64\n",
      "\n",
      "\t input: torch.Size([1, 2])  innput.type: torch.float32  target.type: torch.int64\n"
     ]
    },
    {
     "name": "stderr",
     "output_type": "stream",
     "text": [
      "EPOCH 2245/5000:  11%|█         | 11/100 [00:07<00:53,  1.66it/s, values={'loss_ctc': 0.0437, 'cer': 0.0137, 'wer': 0.0494, 'loss_ce': 0.0878}]"
     ]
    },
    {
     "name": "stdout",
     "output_type": "stream",
     "text": [
      "\n",
      "\t input: torch.Size([1, 2])  innput.type: torch.float32  target.type: torch.int64\n",
      "\n",
      "\t input: torch.Size([1, 2])  innput.type: torch.float32  target.type: torch.int64\n",
      "\n",
      "\t input: torch.Size([1, 2])  innput.type: torch.float32  target.type: torch.int64\n",
      "\n",
      "\t input: torch.Size([1, 2])  innput.type: torch.float32  target.type: torch.int64\n",
      "\n",
      "\t input: torch.Size([1, 2])  innput.type: torch.float32  target.type: torch.int64\n",
      "\n",
      "\t input: torch.Size([1, 2])  innput.type: torch.float32  target.type: torch.int64\n",
      "\n",
      "\t input: torch.Size([1, 2])  innput.type: torch.float32  target.type: torch.int64\n",
      "\n",
      "\t input: torch.Size([1, 2])  innput.type: torch.float32  target.type: torch.int64\n",
      "\n",
      "\t input: torch.Size([1, 2])  innput.type: torch.float32  target.type: torch.int64\n",
      "\n",
      "\t input: torch.Size([1, 2])  innput.type: torch.float32  target.type: torch.int64\n",
      "\n",
      "\t input: torch.Size([1, 2])  innput.type: torch.float32  target.type: torch.int64\n",
      "\n",
      "\t input: torch.Size([1, 2])  innput.type: torch.float32  target.type: torch.int64\n",
      "\n",
      "\t input: torch.Size([1, 2])  innput.type: torch.float32  target.type: torch.int64\n"
     ]
    },
    {
     "name": "stderr",
     "output_type": "stream",
     "text": [
      "EPOCH 2245/5000:  12%|█▏        | 12/100 [00:07<00:54,  1.61it/s, values={'loss_ctc': 0.0403, 'cer': 0.0127, 'wer': 0.0459, 'loss_ce': 0.0809}]"
     ]
    },
    {
     "name": "stdout",
     "output_type": "stream",
     "text": [
      "\n",
      "\t input: torch.Size([1, 2])  innput.type: torch.float32  target.type: torch.int64\n",
      "\n",
      "\t input: torch.Size([1, 2])  innput.type: torch.float32  target.type: torch.int64\n",
      "\n",
      "\t input: torch.Size([1, 2])  innput.type: torch.float32  target.type: torch.int64\n",
      "\n",
      "\t input: torch.Size([1, 2])  innput.type: torch.float32  target.type: torch.int64\n",
      "\n",
      "\t input: torch.Size([1, 2])  innput.type: torch.float32  target.type: torch.int64\n",
      "\n",
      "\t input: torch.Size([1, 2])  innput.type: torch.float32  target.type: torch.int64\n",
      "\n",
      "\t input: torch.Size([1, 2])  innput.type: torch.float32  target.type: torch.int64\n",
      "\n",
      "\t input: torch.Size([1, 2])  innput.type: torch.float32  target.type: torch.int64\n"
     ]
    },
    {
     "name": "stderr",
     "output_type": "stream",
     "text": [
      "EPOCH 2245/5000:  13%|█▎        | 13/100 [00:08<00:58,  1.48it/s, values={'loss_ctc': 0.0382, 'cer': 0.0119, 'wer': 0.0436, 'loss_ce': 0.0747}]"
     ]
    },
    {
     "name": "stdout",
     "output_type": "stream",
     "text": [
      "\n",
      "\t input: torch.Size([1, 2])  innput.type: torch.float32  target.type: torch.int64\n",
      "\n",
      "\t input: torch.Size([1, 2])  innput.type: torch.float32  target.type: torch.int64\n",
      "\n",
      "\t input: torch.Size([1, 2])  innput.type: torch.float32  target.type: torch.int64\n",
      "\n",
      "\t input: torch.Size([1, 2])  innput.type: torch.float32  target.type: torch.int64\n",
      "\n",
      "\t input: torch.Size([1, 2])  innput.type: torch.float32  target.type: torch.int64\n",
      "\n",
      "\t input: torch.Size([1, 2])  innput.type: torch.float32  target.type: torch.int64\n",
      "\n",
      "\t input: torch.Size([1, 2])  innput.type: torch.float32  target.type: torch.int64\n"
     ]
    },
    {
     "name": "stderr",
     "output_type": "stream",
     "text": [
      "EPOCH 2245/5000:  14%|█▍        | 14/100 [00:09<00:54,  1.59it/s, values={'loss_ctc': 0.041, 'cer': 0.0121, 'wer': 0.0436, 'loss_ce': 0.0693}] "
     ]
    },
    {
     "name": "stdout",
     "output_type": "stream",
     "text": [
      "\n",
      "\t input: torch.Size([1, 2])  innput.type: torch.float32  target.type: torch.int64\n",
      "\n",
      "\t input: torch.Size([1, 2])  innput.type: torch.float32  target.type: torch.int64\n",
      "\n",
      "\t input: torch.Size([1, 2])  innput.type: torch.float32  target.type: torch.int64\n",
      "\n",
      "\t input: torch.Size([1, 2])  innput.type: torch.float32  target.type: torch.int64\n",
      "\n",
      "\t input: torch.Size([1, 2])  innput.type: torch.float32  target.type: torch.int64\n",
      "\n",
      "\t input: torch.Size([1, 2])  innput.type: torch.float32  target.type: torch.int64\n",
      "\n",
      "\t input: torch.Size([1, 2])  innput.type: torch.float32  target.type: torch.int64\n",
      "\n",
      "\t input: torch.Size([1, 2])  innput.type: torch.float32  target.type: torch.int64\n"
     ]
    },
    {
     "name": "stderr",
     "output_type": "stream",
     "text": [
      "EPOCH 2245/5000:  15%|█▌        | 15/100 [00:09<00:50,  1.67it/s, values={'loss_ctc': 0.0467, 'cer': 0.0145, 'wer': 0.0526, 'loss_ce': 0.0647}]"
     ]
    },
    {
     "name": "stdout",
     "output_type": "stream",
     "text": [
      "\n",
      "\t input: torch.Size([1, 2])  innput.type: torch.float32  target.type: torch.int64\n",
      "\n",
      "\t input: torch.Size([1, 2])  innput.type: torch.float32  target.type: torch.int64\n",
      "\n",
      "\t input: torch.Size([1, 2])  innput.type: torch.float32  target.type: torch.int64\n",
      "\n",
      "\t input: torch.Size([1, 2])  innput.type: torch.float32  target.type: torch.int64\n",
      "\n",
      "\t input: torch.Size([1, 2])  innput.type: torch.float32  target.type: torch.int64\n",
      "\n",
      "\t input: torch.Size([1, 2])  innput.type: torch.float32  target.type: torch.int64\n",
      "\n",
      "\t input: torch.Size([1, 2])  innput.type: torch.float32  target.type: torch.int64\n",
      "\n",
      "\t input: torch.Size([1, 2])  innput.type: torch.float32  target.type: torch.int64\n",
      "\n",
      "\t input: torch.Size([1, 2])  innput.type: torch.float32  target.type: torch.int64\n",
      "\n",
      "\t input: torch.Size([1, 2])  innput.type: torch.float32  target.type: torch.int64\n",
      "\n",
      "\t input: torch.Size([1, 2])  innput.type: torch.float32  target.type: torch.int64\n",
      "\n",
      "\t input: torch.Size([1, 2])  innput.type: torch.float32  target.type: torch.int64\n",
      "\n",
      "\t input: torch.Size([1, 2])  innput.type: torch.float32  target.type: torch.int64\n"
     ]
    },
    {
     "name": "stderr",
     "output_type": "stream",
     "text": [
      "EPOCH 2245/5000:  16%|█▌        | 16/100 [00:10<00:50,  1.67it/s, values={'loss_ctc': 0.0441, 'cer': 0.0136, 'wer': 0.0494, 'loss_ce': 0.0651}]"
     ]
    },
    {
     "name": "stdout",
     "output_type": "stream",
     "text": [
      "\n",
      "\t input: torch.Size([1, 2])  innput.type: torch.float32  target.type: torch.int64\n",
      "\n",
      "\t input: torch.Size([1, 2])  innput.type: torch.float32  target.type: torch.int64\n",
      "\n",
      "\t input: torch.Size([1, 2])  innput.type: torch.float32  target.type: torch.int64\n",
      "\n",
      "\t input: torch.Size([1, 2])  innput.type: torch.float32  target.type: torch.int64\n",
      "\n",
      "\t input: torch.Size([1, 2])  innput.type: torch.float32  target.type: torch.int64\n",
      "\n",
      "\t input: torch.Size([1, 2])  innput.type: torch.float32  target.type: torch.int64\n",
      "\n",
      "\t input: torch.Size([1, 2])  innput.type: torch.float32  target.type: torch.int64\n",
      "\n",
      "\t input: torch.Size([1, 2])  innput.type: torch.float32  target.type: torch.int64\n"
     ]
    },
    {
     "name": "stderr",
     "output_type": "stream",
     "text": [
      "EPOCH 2245/5000:  17%|█▋        | 17/100 [00:10<00:51,  1.62it/s, values={'loss_ctc': 0.0419, 'cer': 0.0128, 'wer': 0.0461, 'loss_ce': 0.0612}]"
     ]
    },
    {
     "name": "stdout",
     "output_type": "stream",
     "text": [
      "\n",
      "\t input: torch.Size([1, 2])  innput.type: torch.float32  target.type: torch.int64\n",
      "\n",
      "\t input: torch.Size([1, 2])  innput.type: torch.float32  target.type: torch.int64\n",
      "\n",
      "\t input: torch.Size([1, 2])  innput.type: torch.float32  target.type: torch.int64\n",
      "\n",
      "\t input: torch.Size([1, 2])  innput.type: torch.float32  target.type: torch.int64\n",
      "\n",
      "\t input: torch.Size([1, 2])  innput.type: torch.float32  target.type: torch.int64\n",
      "\n",
      "\t input: torch.Size([1, 2])  innput.type: torch.float32  target.type: torch.int64\n",
      "\n",
      "\t input: torch.Size([1, 2])  innput.type: torch.float32  target.type: torch.int64\n",
      "\n",
      "\t input: torch.Size([1, 2])  innput.type: torch.float32  target.type: torch.int64\n",
      "\n",
      "\t input: torch.Size([1, 2])  innput.type: torch.float32  target.type: torch.int64\n",
      "\n",
      "\t input: torch.Size([1, 2])  innput.type: torch.float32  target.type: torch.int64\n",
      "\n",
      "\t input: torch.Size([1, 2])  innput.type: torch.float32  target.type: torch.int64\n"
     ]
    },
    {
     "name": "stderr",
     "output_type": "stream",
     "text": [
      "EPOCH 2245/5000:  18%|█▊        | 18/100 [00:11<00:55,  1.48it/s, values={'loss_ctc': 0.0405, 'cer': 0.0125, 'wer': 0.0459, 'loss_ce': 0.0578}]"
     ]
    },
    {
     "name": "stdout",
     "output_type": "stream",
     "text": [
      "\n",
      "\t input: torch.Size([1, 2])  innput.type: torch.float32  target.type: torch.int64\n",
      "\n",
      "\t input: torch.Size([1, 2])  innput.type: torch.float32  target.type: torch.int64\n",
      "\n",
      "\t input: torch.Size([1, 2])  innput.type: torch.float32  target.type: torch.int64\n",
      "\n",
      "\t input: torch.Size([1, 2])  innput.type: torch.float32  target.type: torch.int64\n",
      "\n",
      "\t input: torch.Size([1, 2])  innput.type: torch.float32  target.type: torch.int64\n",
      "\n",
      "\t input: torch.Size([1, 2])  innput.type: torch.float32  target.type: torch.int64\n",
      "\n",
      "\t input: torch.Size([1, 2])  innput.type: torch.float32  target.type: torch.int64\n",
      "\n",
      "\t input: torch.Size([1, 2])  innput.type: torch.float32  target.type: torch.int64\n",
      "\n",
      "\t input: torch.Size([1, 2])  innput.type: torch.float32  target.type: torch.int64\n",
      "\n",
      "\t input: torch.Size([1, 2])  innput.type: torch.float32  target.type: torch.int64\n",
      "\n",
      "\t input: torch.Size([1, 2])  innput.type: torch.float32  target.type: torch.int64\n"
     ]
    },
    {
     "name": "stderr",
     "output_type": "stream",
     "text": [
      "EPOCH 2245/5000:  18%|█▊        | 18/100 [00:12<00:56,  1.44it/s, values={'loss_ctc': 0.0405, 'cer': 0.0125, 'wer': 0.0459, 'loss_ce': 0.0578}]"
     ]
    },
    {
     "name": "stdout",
     "output_type": "stream",
     "text": [
      "\n",
      "\t input: torch.Size([1, 2])  innput.type: torch.float32  target.type: torch.int64\n",
      "\n",
      "\t input: torch.Size([1, 2])  innput.type: torch.float32  target.type: torch.int64\n",
      "\n",
      "\t input: torch.Size([1, 2])  innput.type: torch.float32  target.type: torch.int64\n"
     ]
    },
    {
     "name": "stderr",
     "output_type": "stream",
     "text": [
      "\n"
     ]
    },
    {
     "ename": "KeyboardInterrupt",
     "evalue": "",
     "output_type": "error",
     "traceback": [
      "\u001b[0;31m---------------------------------------------------------------------------\u001b[0m",
      "\u001b[0;31mKeyboardInterrupt\u001b[0m                         Traceback (most recent call last)",
      "\u001b[0;32m/tmp/ipykernel_218629/2214563043.py\u001b[0m in \u001b[0;36m<module>\u001b[0;34m\u001b[0m\n\u001b[1;32m     17\u001b[0m         \u001b[0mmp\u001b[0m\u001b[0;34m.\u001b[0m\u001b[0mspawn\u001b[0m\u001b[0;34m(\u001b[0m\u001b[0mtrain_and_test\u001b[0m\u001b[0;34m,\u001b[0m \u001b[0margs\u001b[0m\u001b[0;34m=\u001b[0m\u001b[0;34m(\u001b[0m\u001b[0mparams\u001b[0m\u001b[0;34m,\u001b[0m\u001b[0;34m)\u001b[0m\u001b[0;34m,\u001b[0m \u001b[0mnprocs\u001b[0m\u001b[0;34m=\u001b[0m\u001b[0mparams\u001b[0m\u001b[0;34m[\u001b[0m\u001b[0;34m\"training_params\"\u001b[0m\u001b[0;34m]\u001b[0m\u001b[0;34m[\u001b[0m\u001b[0;34m\"nb_gpu\"\u001b[0m\u001b[0;34m]\u001b[0m\u001b[0;34m)\u001b[0m\u001b[0;34m\u001b[0m\u001b[0;34m\u001b[0m\u001b[0m\n\u001b[1;32m     18\u001b[0m     \u001b[0;32melse\u001b[0m\u001b[0;34m:\u001b[0m\u001b[0;34m\u001b[0m\u001b[0;34m\u001b[0m\u001b[0m\n\u001b[0;32m---> 19\u001b[0;31m         \u001b[0mtrain\u001b[0m\u001b[0;34m(\u001b[0m\u001b[0;36m0\u001b[0m\u001b[0;34m,\u001b[0m \u001b[0mparams\u001b[0m\u001b[0;34m)\u001b[0m\u001b[0;34m\u001b[0m\u001b[0;34m\u001b[0m\u001b[0m\n\u001b[0m\u001b[1;32m     20\u001b[0m \u001b[0;34m\u001b[0m\u001b[0m\n\u001b[1;32m     21\u001b[0m \u001b[0;32mwith\u001b[0m \u001b[0mopen\u001b[0m\u001b[0;34m(\u001b[0m\u001b[0;34m\"/home/aniketag/Documents/phd/TensorFlow-2.x-YOLOv3_simula/Handwriting-1-master/VerticalAttentionOCR/OCR/document_OCR/v_attention/output.txt\"\u001b[0m\u001b[0;34m,\u001b[0m \u001b[0;34m\"wb\"\u001b[0m\u001b[0;34m)\u001b[0m \u001b[0;32mas\u001b[0m \u001b[0mf\u001b[0m\u001b[0;34m:\u001b[0m\u001b[0;34m\u001b[0m\u001b[0;34m\u001b[0m\u001b[0m\n",
      "\u001b[0;32m/tmp/ipykernel_218629/1740567871.py\u001b[0m in \u001b[0;36mtrain\u001b[0;34m(rank, params)\u001b[0m\n\u001b[1;32m      4\u001b[0m     \u001b[0;31m# Model trains until max_time_training or max_nb_epochs is reached\u001b[0m\u001b[0;34m\u001b[0m\u001b[0;34m\u001b[0m\u001b[0;34m\u001b[0m\u001b[0m\n\u001b[1;32m      5\u001b[0m \u001b[0;34m\u001b[0m\u001b[0m\n\u001b[0;32m----> 6\u001b[0;31m     \u001b[0mmodel\u001b[0m\u001b[0;34m.\u001b[0m\u001b[0mtrain\u001b[0m\u001b[0;34m(\u001b[0m\u001b[0;34m)\u001b[0m\u001b[0;34m\u001b[0m\u001b[0;34m\u001b[0m\u001b[0m\n\u001b[0m\u001b[1;32m      7\u001b[0m \u001b[0;34m\u001b[0m\u001b[0m\n\u001b[1;32m      8\u001b[0m     \u001b[0;31m# load weights giving best CER on valid set\u001b[0m\u001b[0;34m\u001b[0m\u001b[0;34m\u001b[0m\u001b[0;34m\u001b[0m\u001b[0m\n",
      "\u001b[0;32m~/Documents/phd/TensorFlow-2.x-YOLOv3_simula/Handwriting-1-master/VerticalAttentionOCR/basic/generic_training_manager.py\u001b[0m in \u001b[0;36mtrain\u001b[0;34m(self)\u001b[0m\n\u001b[1;32m    509\u001b[0m                 \u001b[0mself\u001b[0m\u001b[0;34m.\u001b[0m\u001b[0mtotal_batch\u001b[0m \u001b[0;34m+=\u001b[0m \u001b[0;36m1\u001b[0m\u001b[0;34m\u001b[0m\u001b[0;34m\u001b[0m\u001b[0m\n\u001b[1;32m    510\u001b[0m                 \u001b[0;31m# train on batch data and compute metrics\u001b[0m\u001b[0;34m\u001b[0m\u001b[0;34m\u001b[0m\u001b[0;34m\u001b[0m\u001b[0m\n\u001b[0;32m--> 511\u001b[0;31m                 \u001b[0mbatch_metrics\u001b[0m \u001b[0;34m=\u001b[0m \u001b[0mself\u001b[0m\u001b[0;34m.\u001b[0m\u001b[0mtrain_batch\u001b[0m\u001b[0;34m(\u001b[0m\u001b[0mbatch_data\u001b[0m\u001b[0;34m,\u001b[0m \u001b[0mmetrics_name\u001b[0m\u001b[0;34m)\u001b[0m\u001b[0;34m\u001b[0m\u001b[0;34m\u001b[0m\u001b[0m\n\u001b[0m\u001b[1;32m    512\u001b[0m                 \u001b[0mbatch_metrics\u001b[0m\u001b[0;34m[\u001b[0m\u001b[0;34m\"names\"\u001b[0m\u001b[0;34m]\u001b[0m \u001b[0;34m=\u001b[0m \u001b[0mbatch_data\u001b[0m\u001b[0;34m[\u001b[0m\u001b[0;34m\"names\"\u001b[0m\u001b[0;34m]\u001b[0m\u001b[0;34m\u001b[0m\u001b[0;34m\u001b[0m\u001b[0m\n\u001b[1;32m    513\u001b[0m                 \u001b[0mbatch_metrics\u001b[0m\u001b[0;34m[\u001b[0m\u001b[0;34m\"ids\"\u001b[0m\u001b[0;34m]\u001b[0m \u001b[0;34m=\u001b[0m \u001b[0mbatch_data\u001b[0m\u001b[0;34m[\u001b[0m\u001b[0;34m\"ids\"\u001b[0m\u001b[0;34m]\u001b[0m\u001b[0;34m\u001b[0m\u001b[0;34m\u001b[0m\u001b[0m\n",
      "\u001b[0;32m~/Documents/phd/TensorFlow-2.x-YOLOv3_simula/Handwriting-1-master/VerticalAttentionOCR/OCR/document_OCR/v_attention/trainer_pg_va.py\u001b[0m in \u001b[0;36mtrain_batch\u001b[0;34m(self, batch_data, metric_names)\u001b[0m\n\u001b[1;32m    151\u001b[0m                     \u001b[0mline_preds\u001b[0m\u001b[0;34m[\u001b[0m\u001b[0mi\u001b[0m\u001b[0;34m]\u001b[0m\u001b[0;34m.\u001b[0m\u001b[0mappend\u001b[0m\u001b[0;34m(\u001b[0m\u001b[0mlp\u001b[0m\u001b[0;34m)\u001b[0m\u001b[0;34m\u001b[0m\u001b[0;34m\u001b[0m\u001b[0m\n\u001b[1;32m    152\u001b[0m \u001b[0;34m\u001b[0m\u001b[0m\n\u001b[0;32m--> 153\u001b[0;31m         \u001b[0mself\u001b[0m\u001b[0;34m.\u001b[0m\u001b[0mbackward_loss\u001b[0m\u001b[0;34m(\u001b[0m\u001b[0mglobal_loss\u001b[0m\u001b[0;34m)\u001b[0m\u001b[0;34m\u001b[0m\u001b[0;34m\u001b[0m\u001b[0m\n\u001b[0m\u001b[1;32m    154\u001b[0m         \u001b[0mself\u001b[0m\u001b[0;34m.\u001b[0m\u001b[0moptimizer\u001b[0m\u001b[0;34m.\u001b[0m\u001b[0mstep\u001b[0m\u001b[0;34m(\u001b[0m\u001b[0;34m)\u001b[0m\u001b[0;34m\u001b[0m\u001b[0;34m\u001b[0m\u001b[0m\n\u001b[1;32m    155\u001b[0m \u001b[0;34m\u001b[0m\u001b[0m\n",
      "\u001b[0;32m~/Documents/phd/TensorFlow-2.x-YOLOv3_simula/Handwriting-1-master/VerticalAttentionOCR/basic/generic_training_manager.py\u001b[0m in \u001b[0;36mbackward_loss\u001b[0;34m(self, loss, retain_graph)\u001b[0m\n\u001b[1;32m    458\u001b[0m                 \u001b[0mscaled_loss\u001b[0m\u001b[0;34m.\u001b[0m\u001b[0mbackward\u001b[0m\u001b[0;34m(\u001b[0m\u001b[0mretain_graph\u001b[0m\u001b[0;34m=\u001b[0m\u001b[0mretain_graph\u001b[0m\u001b[0;34m)\u001b[0m\u001b[0;34m\u001b[0m\u001b[0;34m\u001b[0m\u001b[0m\n\u001b[1;32m    459\u001b[0m         \u001b[0;32melse\u001b[0m\u001b[0;34m:\u001b[0m\u001b[0;34m\u001b[0m\u001b[0;34m\u001b[0m\u001b[0m\n\u001b[0;32m--> 460\u001b[0;31m             \u001b[0mloss\u001b[0m\u001b[0;34m.\u001b[0m\u001b[0mbackward\u001b[0m\u001b[0;34m(\u001b[0m\u001b[0mretain_graph\u001b[0m\u001b[0;34m=\u001b[0m\u001b[0mretain_graph\u001b[0m\u001b[0;34m)\u001b[0m\u001b[0;34m\u001b[0m\u001b[0;34m\u001b[0m\u001b[0m\n\u001b[0m\u001b[1;32m    461\u001b[0m \u001b[0;34m\u001b[0m\u001b[0m\n\u001b[1;32m    462\u001b[0m     \u001b[0;32mdef\u001b[0m \u001b[0mtrain\u001b[0m\u001b[0;34m(\u001b[0m\u001b[0mself\u001b[0m\u001b[0;34m)\u001b[0m\u001b[0;34m:\u001b[0m\u001b[0;34m\u001b[0m\u001b[0;34m\u001b[0m\u001b[0m\n",
      "\u001b[0;32m~/anaconda3/envs/tor11/lib/python3.7/site-packages/torch/tensor.py\u001b[0m in \u001b[0;36mbackward\u001b[0;34m(self, gradient, retain_graph, create_graph, inputs)\u001b[0m\n\u001b[1;32m    243\u001b[0m                 \u001b[0mcreate_graph\u001b[0m\u001b[0;34m=\u001b[0m\u001b[0mcreate_graph\u001b[0m\u001b[0;34m,\u001b[0m\u001b[0;34m\u001b[0m\u001b[0;34m\u001b[0m\u001b[0m\n\u001b[1;32m    244\u001b[0m                 inputs=inputs)\n\u001b[0;32m--> 245\u001b[0;31m         \u001b[0mtorch\u001b[0m\u001b[0;34m.\u001b[0m\u001b[0mautograd\u001b[0m\u001b[0;34m.\u001b[0m\u001b[0mbackward\u001b[0m\u001b[0;34m(\u001b[0m\u001b[0mself\u001b[0m\u001b[0;34m,\u001b[0m \u001b[0mgradient\u001b[0m\u001b[0;34m,\u001b[0m \u001b[0mretain_graph\u001b[0m\u001b[0;34m,\u001b[0m \u001b[0mcreate_graph\u001b[0m\u001b[0;34m,\u001b[0m \u001b[0minputs\u001b[0m\u001b[0;34m=\u001b[0m\u001b[0minputs\u001b[0m\u001b[0;34m)\u001b[0m\u001b[0;34m\u001b[0m\u001b[0;34m\u001b[0m\u001b[0m\n\u001b[0m\u001b[1;32m    246\u001b[0m \u001b[0;34m\u001b[0m\u001b[0m\n\u001b[1;32m    247\u001b[0m     \u001b[0;32mdef\u001b[0m \u001b[0mregister_hook\u001b[0m\u001b[0;34m(\u001b[0m\u001b[0mself\u001b[0m\u001b[0;34m,\u001b[0m \u001b[0mhook\u001b[0m\u001b[0;34m)\u001b[0m\u001b[0;34m:\u001b[0m\u001b[0;34m\u001b[0m\u001b[0;34m\u001b[0m\u001b[0m\n",
      "\u001b[0;32m~/anaconda3/envs/tor11/lib/python3.7/site-packages/torch/autograd/__init__.py\u001b[0m in \u001b[0;36mbackward\u001b[0;34m(tensors, grad_tensors, retain_graph, create_graph, grad_variables, inputs)\u001b[0m\n\u001b[1;32m    145\u001b[0m     Variable._execution_engine.run_backward(\n\u001b[1;32m    146\u001b[0m         \u001b[0mtensors\u001b[0m\u001b[0;34m,\u001b[0m \u001b[0mgrad_tensors_\u001b[0m\u001b[0;34m,\u001b[0m \u001b[0mretain_graph\u001b[0m\u001b[0;34m,\u001b[0m \u001b[0mcreate_graph\u001b[0m\u001b[0;34m,\u001b[0m \u001b[0minputs\u001b[0m\u001b[0;34m,\u001b[0m\u001b[0;34m\u001b[0m\u001b[0;34m\u001b[0m\u001b[0m\n\u001b[0;32m--> 147\u001b[0;31m         allow_unreachable=True, accumulate_grad=True)  # allow_unreachable flag\n\u001b[0m\u001b[1;32m    148\u001b[0m \u001b[0;34m\u001b[0m\u001b[0m\n\u001b[1;32m    149\u001b[0m \u001b[0;34m\u001b[0m\u001b[0m\n",
      "\u001b[0;31mKeyboardInterrupt\u001b[0m: "
     ]
    }
   ],
   "source": [
    "%load_ext autoreload\n",
    "%autoreload 2\n",
    "\n",
    "from basic.generic_training_manager import *\n",
    "from OCR.document_OCR.v_attention.trainer_pg_va import *\n",
    "\n",
    "if __name__ == \"__main__\":\n",
    "\n",
    "    dataset_name = \"IAM\"  # [\"RIMES\", \"IAM\", \"READ_2016\"]\n",
    "\n",
    "    if params[\"training_params\"][\"stop_mode\"] == \"learned\":\n",
    "        params[\"training_params\"][\"train_metrics\"].append(\"loss_ce\")\n",
    "    params[\"model_params\"][\"stop_mode\"] = params[\"training_params\"][\"stop_mode\"]\n",
    "\n",
    "\n",
    "    if params[\"training_params\"][\"use_ddp\"] and not params[\"training_params\"][\"force_cpu\"]:\n",
    "        mp.spawn(train_and_test, args=(params,), nprocs=params[\"training_params\"][\"nb_gpu\"])\n",
    "    else:\n",
    "        train(0, params)\n",
    "       \n",
    "with open(\"/home/aniketag/Documents/phd/TensorFlow-2.x-YOLOv3_simula/Handwriting-1-master/VerticalAttentionOCR/OCR/document_OCR/v_attention/output.txt\", \"wb\") as f:\n",
    "    f.write(output.stdout.encode('utf-8'))\n"
   ]
  },
  {
   "cell_type": "code",
   "execution_count": null,
   "metadata": {},
   "outputs": [],
   "source": [
    "\n",
    "%load_ext autoreload\n",
    "%autoreload 2\n",
    "\n",
    "import sys\n",
    "sys.path.insert(0, '/home/aniketag/Documents/phd/TensorFlow-2.x-YOLOv3_simula/Handwriting-1-master/VerticalAttentionOCR/')\n",
    "from torch.optim import Adam\n",
    "from OCR.document_OCR.v_attention.trainer_pg_va import Manager\n",
    "from OCR.document_OCR.v_attention.models_pg_va import VerticalAttention, LineDecoderCTC\n",
    "from basic.models import FCN_Encoder\n",
    "from basic.generic_dataset_manager import OCRDataset\n",
    "from basic.generic_training_manager import GenericTrainingManager\n",
    "from torch.nn import Flatten, LSTM, Embedding\n",
    "import torch\n",
    "import torch.multiprocessing as mp\n",
    "import torch.nn as nn\n",
    "\n",
    "\n",
    "class miniTrain(GenericTrainingManager):\n",
    "    def __init__(self,params) -> None:\n",
    "        \n",
    "        self.params = params\n",
    "        \n",
    "        print(\"\\n\\t inside minitrain!!\")\n",
    "        \n",
    "        self.load_dataset()\n",
    "        #self.load_model()\n",
    "    \n",
    "    def testdata():\n",
    "        pass"
   ]
  },
  {
   "cell_type": "code",
   "execution_count": null,
   "metadata": {},
   "outputs": [],
   "source": [
    "mn = miniTrain(params)"
   ]
  }
 ],
 "metadata": {
  "kernelspec": {
   "display_name": "tor11",
   "language": "python",
   "name": "tor11"
  },
  "language_info": {
   "codemirror_mode": {
    "name": "ipython",
    "version": 3
   },
   "file_extension": ".py",
   "mimetype": "text/x-python",
   "name": "python",
   "nbconvert_exporter": "python",
   "pygments_lexer": "ipython3",
   "version": "3.7.12"
  },
  "orig_nbformat": 4
 },
 "nbformat": 4,
 "nbformat_minor": 2
}
